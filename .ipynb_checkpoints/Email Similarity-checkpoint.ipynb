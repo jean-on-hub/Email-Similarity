{
 "cells": [
  {
   "cell_type": "code",
   "execution_count": 1,
   "id": "4799490a",
   "metadata": {},
   "outputs": [
    {
     "name": "stdout",
     "output_type": "stream",
     "text": [
      "0.9723618090452262\n",
      "0.9974715549936789\n"
     ]
    }
   ],
   "source": [
    "# import necessary libraries\n",
    "from sklearn.datasets import fetch_20newsgroups\n",
    "from sklearn.naive_bayes import MultinomialNB\n",
    "from sklearn.feature_extraction.text import CountVectorizer\n",
    "# access files\n",
    "emails = fetch_20newsgroups()\n",
    "# seperate the hockey and baseball data\n",
    "emails = fetch_20newsgroups(categories = ['rec.sport.baseball', 'rec.sport.hockey'])\n",
    "# print(emails.target_names)\n",
    "# print(emails.data[5])\n",
    "# create training and test data sets\n",
    "train_emails = fetch_20newsgroups(categories = ['rec.sport.baseball', 'rec.sport.hockey'],subset='train', shuffle = True,\n",
    "random_state = 108)\n",
    "test_emails = fetch_20newsgroups(categories = ['rec.sport.baseball', 'rec.sport.hockey'],subset='test', shuffle = True,\n",
    "random_state = 108)\n",
    "# create counter\n",
    "counter = CountVectorizer()\n",
    "counter.fit(test_emails.data + train_emails.data)\n",
    "train_counts = counter.transform(train_emails.data)\n",
    "test_counts = counter.transform(test_emails.data)\n",
    "# introduce the classifier\n",
    "classifier = MultinomialNB()\n",
    "classifier.fit(train_counts,train_emails.target)\n",
    "print(classifier.score(test_counts,test_emails.target))\n",
    "# check for hockey and tech mails\n",
    "emails = fetch_20newsgroups(categories = ['comp.sys.ibm.pc.hardware', 'rec.sport.hockey'])\n",
    "train_emails = fetch_20newsgroups(categories = ['comp.sys.ibm.pc.hardware', 'rec.sport.hockey'],subset='train', shuffle = True,\n",
    "random_state = 108)\n",
    "test_emails = fetch_20newsgroups(categories = ['comp.sys.ibm.pc.hardware', 'rec.sport.hockey'],subset='test', shuffle = True,\n",
    "random_state = 108)\n",
    "counter.fit(test_emails.data + train_emails.data)\n",
    "train_counts = counter.transform(train_emails.data)\n",
    "test_counts = counter.transform(test_emails.data)\n",
    "lassifier = MultinomialNB()\n",
    "classifier.fit(train_counts,train_emails.target)\n",
    "print(classifier.score(test_counts,test_emails.target))"
   ]
  },
  {
   "cell_type": "code",
   "execution_count": null,
   "id": "f55dfdf3",
   "metadata": {},
   "outputs": [],
   "source": []
  }
 ],
 "metadata": {
  "kernelspec": {
   "display_name": "Python 3",
   "language": "python",
   "name": "python3"
  },
  "language_info": {
   "codemirror_mode": {
    "name": "ipython",
    "version": 3
   },
   "file_extension": ".py",
   "mimetype": "text/x-python",
   "name": "python",
   "nbconvert_exporter": "python",
   "pygments_lexer": "ipython3",
   "version": "3.8.8"
  }
 },
 "nbformat": 4,
 "nbformat_minor": 5
}
